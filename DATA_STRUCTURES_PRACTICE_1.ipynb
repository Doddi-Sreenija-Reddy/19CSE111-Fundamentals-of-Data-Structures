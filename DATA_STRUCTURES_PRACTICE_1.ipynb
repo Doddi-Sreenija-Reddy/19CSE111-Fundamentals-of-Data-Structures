{
  "nbformat": 4,
  "nbformat_minor": 0,
  "metadata": {
    "colab": {
      "provenance": []
    },
    "kernelspec": {
      "name": "python3",
      "display_name": "Python 3"
    },
    "language_info": {
      "name": "python"
    }
  },
  "cells": [
    {
      "cell_type": "code",
      "source": [
        "seconds_in_a_day=24*60*60\n",
        "seconds_in_a_day\n"
      ],
      "metadata": {
        "colab": {
          "base_uri": "https://localhost:8080/"
        },
        "id": "wLh-DGwoaTn8",
        "outputId": "6a41c08d-861f-421a-bff0-5df71e9e91f7"
      },
      "execution_count": null,
      "outputs": [
        {
          "output_type": "execute_result",
          "data": {
            "text/plain": [
              "86400"
            ]
          },
          "metadata": {},
          "execution_count": 2
        }
      ]
    },
    {
      "cell_type": "code",
      "source": [
        "price=226\n",
        "print(price)"
      ],
      "metadata": {
        "colab": {
          "base_uri": "https://localhost:8080/"
        },
        "id": "fRn5cEe1ac4_",
        "outputId": "0b60390b-4f14-4be2-a972-5c8b61d2ceff"
      },
      "execution_count": null,
      "outputs": [
        {
          "output_type": "stream",
          "name": "stdout",
          "text": [
            "226\n"
          ]
        }
      ]
    },
    {
      "cell_type": "code",
      "source": [
        "price=230\n",
        "print(price)\n",
        "x=y=z=price\n",
        "print(x,y,z)"
      ],
      "metadata": {
        "colab": {
          "base_uri": "https://localhost:8080/"
        },
        "id": "Rta_qQoDak8Q",
        "outputId": "b24b6011-e906-429a-873e-fe6574c11c51"
      },
      "execution_count": null,
      "outputs": [
        {
          "output_type": "stream",
          "name": "stdout",
          "text": [
            "230\n",
            "230 230 230\n"
          ]
        }
      ]
    },
    {
      "cell_type": "code",
      "source": [
        "stock='AAPL'\n",
        "_stock='AAPL'\n",
        "1_stock='AAPL'\n",
        "print(stock)"
      ],
      "metadata": {
        "colab": {
          "base_uri": "https://localhost:8080/",
          "height": 130
        },
        "id": "UUb2h8mVawCF",
        "outputId": "ca941657-34ba-40b8-b23a-4dbbc41315a7"
      },
      "execution_count": null,
      "outputs": [
        {
          "output_type": "error",
          "ename": "SyntaxError",
          "evalue": "ignored",
          "traceback": [
            "\u001b[0;36m  File \u001b[0;32m\"<ipython-input-5-4704a614718f>\"\u001b[0;36m, line \u001b[0;32m3\u001b[0m\n\u001b[0;31m    1_stock='AAPL'\u001b[0m\n\u001b[0m     ^\u001b[0m\n\u001b[0;31mSyntaxError\u001b[0m\u001b[0;31m:\u001b[0m invalid decimal literal\n"
          ]
        }
      ]
    },
    {
      "cell_type": "code",
      "source": [
        "a=6\n",
        "b=2\n",
        "c=a+b\n",
        "print(a,b,c)\n",
        "print(type(a),type(b),type(c))"
      ],
      "metadata": {
        "colab": {
          "base_uri": "https://localhost:8080/"
        },
        "id": "G4BXDdtCbBvw",
        "outputId": "a6f85fcb-a89c-4e4d-c0eb-770dcf1e0967"
      },
      "execution_count": null,
      "outputs": [
        {
          "output_type": "stream",
          "name": "stdout",
          "text": [
            "6 2 8\n",
            "<class 'int'> <class 'int'> <class 'int'>\n"
          ]
        }
      ]
    },
    {
      "cell_type": "code",
      "source": [
        "buy=True\n",
        "Buy='True'\n",
        "stringType='Buy is a string while buy is a boolean'\n",
        "print(buy,Buy)\n",
        "print(type(buy),type(Buy))\n",
        "print(stringType)\n",
        "print(type(stringType))"
      ],
      "metadata": {
        "colab": {
          "base_uri": "https://localhost:8080/"
        },
        "id": "_a18_Unvbijk",
        "outputId": "01c4c4fb-853c-4c16-c64f-eb1ed60af9aa"
      },
      "execution_count": null,
      "outputs": [
        {
          "output_type": "stream",
          "name": "stdout",
          "text": [
            "True True\n",
            "<class 'bool'> <class 'str'>\n",
            "Buy is a string while buy is a boolean\n",
            "<class 'str'>\n"
          ]
        }
      ]
    },
    {
      "cell_type": "code",
      "source": [
        "numbers=[1,2,5]\n",
        "print(numbers)"
      ],
      "metadata": {
        "colab": {
          "base_uri": "https://localhost:8080/"
        },
        "id": "78avG5c-cHsa",
        "outputId": "e974e396-090d-4c5f-e0e4-7bb56addd393"
      },
      "execution_count": null,
      "outputs": [
        {
          "output_type": "stream",
          "name": "stdout",
          "text": [
            "[1, 2, 5]\n"
          ]
        }
      ]
    },
    {
      "cell_type": "code",
      "source": [
        "mylist=[]\n",
        "print(mylist)\n",
        "my_list = [1, \"Hello\", 3.4]\n",
        "print (my_list)"
      ],
      "metadata": {
        "colab": {
          "base_uri": "https://localhost:8080/"
        },
        "id": "7vwVt4PUcNzx",
        "outputId": "98e28f68-dd63-447a-c441-d971fc88da66"
      },
      "execution_count": 1,
      "outputs": [
        {
          "output_type": "stream",
          "name": "stdout",
          "text": [
            "[]\n",
            "[1, 'Hello', 3.4]\n"
          ]
        }
      ]
    },
    {
      "cell_type": "code",
      "source": [
        "languages = [\"Python\", \"Swift\", \"C++\"]\n",
        "print(languages[0])\n",
        "print(languages[2])"
      ],
      "metadata": {
        "colab": {
          "base_uri": "https://localhost:8080/"
        },
        "id": "icUzc2_P9_3x",
        "outputId": "c6d5c1f7-e66c-489d-b447-cae977928df3"
      },
      "execution_count": 2,
      "outputs": [
        {
          "output_type": "stream",
          "name": "stdout",
          "text": [
            "Python\n",
            "C++\n"
          ]
        }
      ]
    },
    {
      "cell_type": "code",
      "source": [
        "languages = [\"Python\", \"Swift\", \"C++\"]\n",
        "print(languages[-1])\n",
        "print(languages[-3])"
      ],
      "metadata": {
        "colab": {
          "base_uri": "https://localhost:8080/"
        },
        "id": "HIwNnRMP-DGX",
        "outputId": "8de3cb75-fc4e-4440-b8d2-978a5656eebc"
      },
      "execution_count": 3,
      "outputs": [
        {
          "output_type": "stream",
          "name": "stdout",
          "text": [
            "C++\n",
            "Python\n"
          ]
        }
      ]
    },
    {
      "cell_type": "code",
      "source": [
        "my_list = ['p','r','o','g','r','a','m','i','z'] \n",
        "print(my_list[2:5]) \n",
        "print(my_list[5:]) \n",
        "print(my_list[:])"
      ],
      "metadata": {
        "colab": {
          "base_uri": "https://localhost:8080/"
        },
        "id": "jDVsxllDAK2i",
        "outputId": "5e252692-b8c7-4151-caa4-374a941280da"
      },
      "execution_count": 5,
      "outputs": [
        {
          "output_type": "stream",
          "name": "stdout",
          "text": [
            "['o', 'g', 'r']\n",
            "['a', 'm', 'i', 'z']\n",
            "['p', 'r', 'o', 'g', 'r', 'a', 'm', 'i', 'z']\n"
          ]
        }
      ]
    }
  ]
}