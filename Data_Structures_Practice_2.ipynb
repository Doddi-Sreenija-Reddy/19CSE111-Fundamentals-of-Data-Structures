{
  "nbformat": 4,
  "nbformat_minor": 0,
  "metadata": {
    "colab": {
      "provenance": [],
      "authorship_tag": "ABX9TyMKTUmZGrkBsysVRvaZHmzu",
      "include_colab_link": true
    },
    "kernelspec": {
      "name": "python3",
      "display_name": "Python 3"
    },
    "language_info": {
      "name": "python"
    }
  },
  "cells": [
    {
      "cell_type": "markdown",
      "metadata": {
        "id": "view-in-github",
        "colab_type": "text"
      },
      "source": [
        "<a href=\"https://colab.research.google.com/github/Doddi-Sreenija-Reddy/19CSE111-Fundamentals-of-Data-Structures/blob/main/Data_Structures_Practice_2.ipynb\" target=\"_parent\"><img src=\"https://colab.research.google.com/assets/colab-badge.svg\" alt=\"Open In Colab\"/></a>"
      ]
    },
    {
      "cell_type": "markdown",
      "source": [
        "**Variables**"
      ],
      "metadata": {
        "id": "vNKHmxJAacwF"
      }
    },
    {
      "cell_type": "code",
      "source": [
        "#assigning variables\n",
        "s=1\n",
        "a='Sreenija' "
      ],
      "metadata": {
        "id": "UuIiMRWbah9e"
      },
      "execution_count": null,
      "outputs": []
    },
    {
      "cell_type": "markdown",
      "source": [
        "**Numbers**"
      ],
      "metadata": {
        "id": "r96PQmS-anfj"
      }
    },
    {
      "cell_type": "code",
      "source": [
        "#type\n",
        "int=1\n",
        "print(type(int))\n",
        "a=2.4\n",
        "type(a) "
      ],
      "metadata": {
        "colab": {
          "base_uri": "https://localhost:8080/"
        },
        "id": "JK8KiWpjasOu",
        "outputId": "48f25267-d957-49e8-a920-040c5872d826"
      },
      "execution_count": 9,
      "outputs": [
        {
          "output_type": "stream",
          "name": "stdout",
          "text": [
            "<class 'int'>\n"
          ]
        },
        {
          "output_type": "execute_result",
          "data": {
            "text/plain": [
              "float"
            ]
          },
          "metadata": {},
          "execution_count": 9
        }
      ]
    },
    {
      "cell_type": "code",
      "source": [
        "#series operations\n",
        "2+1\n",
        "2-1\n",
        "2*2"
      ],
      "metadata": {
        "colab": {
          "base_uri": "https://localhost:8080/"
        },
        "id": "9ZdDkAn_bF1E",
        "outputId": "18216527-a750-4f14-adf4-38fbaf3cd37b"
      },
      "execution_count": 12,
      "outputs": [
        {
          "output_type": "execute_result",
          "data": {
            "text/plain": [
              "4"
            ]
          },
          "metadata": {},
          "execution_count": 12
        }
      ]
    },
    {
      "cell_type": "code",
      "source": [
        "2+2 #addition"
      ],
      "metadata": {
        "colab": {
          "base_uri": "https://localhost:8080/"
        },
        "id": "T21LB_JIbSQB",
        "outputId": "c7d4a183-304f-49a7-f317-5d16ba0a0c49"
      },
      "execution_count": 13,
      "outputs": [
        {
          "output_type": "execute_result",
          "data": {
            "text/plain": [
              "4"
            ]
          },
          "metadata": {},
          "execution_count": 13
        }
      ]
    },
    {
      "cell_type": "code",
      "source": [
        "2-1 #subtraction"
      ],
      "metadata": {
        "colab": {
          "base_uri": "https://localhost:8080/"
        },
        "id": "PB1Mg87_bThj",
        "outputId": "00798ac8-f22f-43c4-9819-b85c79d2ff70"
      },
      "execution_count": 14,
      "outputs": [
        {
          "output_type": "execute_result",
          "data": {
            "text/plain": [
              "1"
            ]
          },
          "metadata": {},
          "execution_count": 14
        }
      ]
    },
    {
      "cell_type": "code",
      "source": [
        "2*2 #multiplication"
      ],
      "metadata": {
        "colab": {
          "base_uri": "https://localhost:8080/"
        },
        "id": "cy5M6E8qbVv_",
        "outputId": "cbfd7160-420b-498a-c586-04b81d9ba065"
      },
      "execution_count": 15,
      "outputs": [
        {
          "output_type": "execute_result",
          "data": {
            "text/plain": [
              "4"
            ]
          },
          "metadata": {},
          "execution_count": 15
        }
      ]
    },
    {
      "cell_type": "code",
      "source": [
        "2/2 #divison"
      ],
      "metadata": {
        "colab": {
          "base_uri": "https://localhost:8080/"
        },
        "id": "VTm4a7hGbX0G",
        "outputId": "dd6468bb-511a-44e6-c5ef-fdc284d129a1"
      },
      "execution_count": 16,
      "outputs": [
        {
          "output_type": "execute_result",
          "data": {
            "text/plain": [
              "1.0"
            ]
          },
          "metadata": {},
          "execution_count": 16
        }
      ]
    },
    {
      "cell_type": "code",
      "source": [
        "2%4 #modulus"
      ],
      "metadata": {
        "colab": {
          "base_uri": "https://localhost:8080/"
        },
        "id": "lcD9BJ-VbZf3",
        "outputId": "2ee54073-3529-449b-f6e6-5ccf3638f63f"
      },
      "execution_count": 17,
      "outputs": [
        {
          "output_type": "execute_result",
          "data": {
            "text/plain": [
              "2"
            ]
          },
          "metadata": {},
          "execution_count": 17
        }
      ]
    },
    {
      "cell_type": "code",
      "source": [
        "2**4 #power"
      ],
      "metadata": {
        "colab": {
          "base_uri": "https://localhost:8080/"
        },
        "id": "Psaf4VX5b9g1",
        "outputId": "8223248c-d75b-43f5-bbff-4b3a78c0c73b"
      },
      "execution_count": 19,
      "outputs": [
        {
          "output_type": "execute_result",
          "data": {
            "text/plain": [
              "16"
            ]
          },
          "metadata": {},
          "execution_count": 19
        }
      ]
    },
    {
      "cell_type": "code",
      "source": [
        "#series of operations with print\n",
        "print(2+2)\n",
        "print(2-1)\n",
        "print(2*2)\n",
        "print(2/2)\n",
        "print(2%4) "
      ],
      "metadata": {
        "colab": {
          "base_uri": "https://localhost:8080/"
        },
        "id": "ahMDuMcAbu8y",
        "outputId": "0520c087-5c54-4071-ee70-9c8cbdfd331d"
      },
      "execution_count": 18,
      "outputs": [
        {
          "output_type": "stream",
          "name": "stdout",
          "text": [
            "4\n",
            "1\n",
            "4\n",
            "1.0\n",
            "2\n"
          ]
        }
      ]
    },
    {
      "cell_type": "markdown",
      "source": [
        "**Strings**"
      ],
      "metadata": {
        "id": "GuDkXDpCcT_D"
      }
    },
    {
      "cell_type": "code",
      "source": [
        "#assigning string to a variable and returning the value with print\n",
        "a=\"hello\"\n",
        "print(a)\n",
        "b='hi'\n",
        "print(b) "
      ],
      "metadata": {
        "colab": {
          "base_uri": "https://localhost:8080/"
        },
        "id": "_T9nly25cbnZ",
        "outputId": "c2655590-34b1-4254-869e-80930920361b"
      },
      "execution_count": 22,
      "outputs": [
        {
          "output_type": "stream",
          "name": "stdout",
          "text": [
            "hello\n",
            "hi\n"
          ]
        }
      ]
    },
    {
      "cell_type": "code",
      "source": [
        "#assigning string to a variable and returning the value without print\n",
        "a=\"hello\"\n",
        "a"
      ],
      "metadata": {
        "colab": {
          "base_uri": "https://localhost:8080/",
          "height": 35
        },
        "id": "-a4KdLfJc4r1",
        "outputId": "681e5cdf-9198-47af-fa83-b228e1c80fff"
      },
      "execution_count": 24,
      "outputs": [
        {
          "output_type": "execute_result",
          "data": {
            "text/plain": [
              "'hello'"
            ],
            "application/vnd.google.colaboratory.intrinsic+json": {
              "type": "string"
            }
          },
          "metadata": {},
          "execution_count": 24
        }
      ]
    },
    {
      "cell_type": "code",
      "source": [
        "#concatenation\n",
        "a+' '+b"
      ],
      "metadata": {
        "colab": {
          "base_uri": "https://localhost:8080/",
          "height": 35
        },
        "id": "IIHFMGqLdKj_",
        "outputId": "92369cf2-de67-4251-e810-ec61472cf888"
      },
      "execution_count": 26,
      "outputs": [
        {
          "output_type": "execute_result",
          "data": {
            "text/plain": [
              "'hello hi'"
            ],
            "application/vnd.google.colaboratory.intrinsic+json": {
              "type": "string"
            }
          },
          "metadata": {},
          "execution_count": 26
        }
      ]
    },
    {
      "cell_type": "code",
      "source": [
        "string='i am practicing python'\n",
        "string"
      ],
      "metadata": {
        "colab": {
          "base_uri": "https://localhost:8080/",
          "height": 35
        },
        "id": "-UF6GV4YdVgX",
        "outputId": "d9c84c95-f56b-41af-c8bd-366e418fddb8"
      },
      "execution_count": 30,
      "outputs": [
        {
          "output_type": "execute_result",
          "data": {
            "text/plain": [
              "'i am practicing python'"
            ],
            "application/vnd.google.colaboratory.intrinsic+json": {
              "type": "string"
            }
          },
          "metadata": {},
          "execution_count": 30
        }
      ]
    },
    {
      "cell_type": "code",
      "source": [
        "print(string.capitalize()) #Capitalization\n",
        "print(string.title()) #Title\n",
        "print(string.upper()) #Uppercase\n",
        "print(string.lower()) #Lowercase\n",
        "a=print(string.split()) #Splitting a string\n",
        "type(a)"
      ],
      "metadata": {
        "colab": {
          "base_uri": "https://localhost:8080/"
        },
        "id": "mYP0Nl54dl1i",
        "outputId": "881c8120-7d5d-459b-e1ac-ace4101c8852"
      },
      "execution_count": 36,
      "outputs": [
        {
          "output_type": "stream",
          "name": "stdout",
          "text": [
            "I am practicing python\n",
            "I Am Practicing Python\n",
            "I AM PRACTICING PYTHON\n",
            "i am practicing python\n",
            "['i', 'am', 'practicing', 'python']\n"
          ]
        },
        {
          "output_type": "execute_result",
          "data": {
            "text/plain": [
              "NoneType"
            ]
          },
          "metadata": {},
          "execution_count": 36
        }
      ]
    },
    {
      "cell_type": "markdown",
      "source": [
        "**Data Structures**"
      ],
      "metadata": {
        "id": "pio9l08lepab"
      }
    },
    {
      "cell_type": "markdown",
      "source": [
        "1. **List**"
      ],
      "metadata": {
        "id": "9wPF5OwG4-Kc"
      }
    },
    {
      "cell_type": "code",
      "source": [
        "#list\n",
        "Names=['Sreenija', 'Manasa', 'Jeba', 'Meghana', 'Devipriya']\n",
        "Roll_no=['16','43','25','79','60']\n",
        "Section=['Sreenija',16,'Manasa',43,'Jeba',25,'Meghana',79,'Devipriya',60]"
      ],
      "metadata": {
        "id": "RLxqb1nOexjX"
      },
      "execution_count": 123,
      "outputs": []
    },
    {
      "cell_type": "code",
      "source": [
        "print(Names[0]) #Accessing an element\n",
        "print(Names[-3]) #Accessing an element\n",
        "print(Names[2:5]) #Slicing\n",
        "print(Names[:-3]) #Slicing\n",
        "Names[2]='Anjana' #updating the value of list\n",
        "print(Names)"
      ],
      "metadata": {
        "colab": {
          "base_uri": "https://localhost:8080/"
        },
        "id": "PEd8_jQOiVl0",
        "outputId": "10d3aeaf-8540-4307-d033-62fa2a8f4072"
      },
      "execution_count": 182,
      "outputs": [
        {
          "output_type": "stream",
          "name": "stdout",
          "text": [
            "Sreenija\n",
            "Jeba\n",
            "['Jeba', 'Meghana', 'Devipriya']\n",
            "['Sreenija', 'Manasa']\n",
            "['Sreenija', 'Manasa', 'Anjana', 'Meghana', 'Devipriya']\n"
          ]
        }
      ]
    },
    {
      "cell_type": "code",
      "source": [
        "Roll_no.append(66) #adding an element\n",
        "Roll_no"
      ],
      "metadata": {
        "colab": {
          "base_uri": "https://localhost:8080/"
        },
        "id": "yHzERA0ivOuL",
        "outputId": "caf727e6-f6ff-41b2-de92-e2be18a4eddc"
      },
      "execution_count": 49,
      "outputs": [
        {
          "output_type": "execute_result",
          "data": {
            "text/plain": [
              "['16', '43', '25', '79', '60', 66]"
            ]
          },
          "metadata": {},
          "execution_count": 49
        }
      ]
    },
    {
      "cell_type": "code",
      "source": [
        "Names+Roll_no #concatenation"
      ],
      "metadata": {
        "colab": {
          "base_uri": "https://localhost:8080/"
        },
        "id": "m-APfRKUvfOf",
        "outputId": "ccdc9358-ce31-47d2-92cd-657ad0b196bf"
      },
      "execution_count": 50,
      "outputs": [
        {
          "output_type": "execute_result",
          "data": {
            "text/plain": [
              "['Sreenija',\n",
              " 'Manasa',\n",
              " 'Anjana',\n",
              " 'Meghana',\n",
              " 'Devipriya',\n",
              " '16',\n",
              " '43',\n",
              " '25',\n",
              " '79',\n",
              " '60',\n",
              " 66]"
            ]
          },
          "metadata": {},
          "execution_count": 50
        }
      ]
    },
    {
      "cell_type": "code",
      "source": [
        "nested_list=['cat','ant','dog','p',[1,2,3]] #nesting a list in another list\n",
        "print(nested_list[0][2])\n",
        "print(len(nested_list)) #length of a list\n",
        "print(len(nested_list[4]),',',len(nested_list[2])) "
      ],
      "metadata": {
        "colab": {
          "base_uri": "https://localhost:8080/"
        },
        "id": "t6aToiEuvnPf",
        "outputId": "eea1585c-e9c9-4819-b084-7a2ed3403948"
      },
      "execution_count": 67,
      "outputs": [
        {
          "output_type": "stream",
          "name": "stdout",
          "text": [
            "t\n",
            "5\n",
            "3 , 3\n",
            "3\n"
          ]
        }
      ]
    },
    {
      "cell_type": "code",
      "source": [
        "numbers=[6,15,16,43,25,146,33,28,66,79] "
      ],
      "metadata": {
        "id": "BVWNyvfAwOzI"
      },
      "execution_count": 179,
      "outputs": []
    },
    {
      "cell_type": "code",
      "source": [
        "numbers.sort() #sorting a list\n",
        "numbers"
      ],
      "metadata": {
        "colab": {
          "base_uri": "https://localhost:8080/"
        },
        "id": "lUOZ23K52Qw_",
        "outputId": "1c7986c3-2faa-4908-b1be-41fa446d6ab1"
      },
      "execution_count": 181,
      "outputs": [
        {
          "output_type": "execute_result",
          "data": {
            "text/plain": [
              "[6, 15, 16, 25, 28, 33, 43, 66, 79, 146]"
            ]
          },
          "metadata": {},
          "execution_count": 181
        }
      ]
    },
    {
      "cell_type": "code",
      "source": [
        "numbers.reverse() #reversing a list\n",
        "numbers"
      ],
      "metadata": {
        "colab": {
          "base_uri": "https://localhost:8080/"
        },
        "id": "zrHxGO562VAV",
        "outputId": "5bd999f2-e854-42bd-c28b-f4e624e365e3"
      },
      "execution_count": 101,
      "outputs": [
        {
          "output_type": "execute_result",
          "data": {
            "text/plain": [
              "[79, 66, 43, 33, 28, 25, 16, 15, 6]"
            ]
          },
          "metadata": {},
          "execution_count": 101
        }
      ]
    },
    {
      "cell_type": "code",
      "source": [
        "numbers=[6,15,16,43,25,146,33,28,66,79] "
      ],
      "metadata": {
        "id": "eIRk6wvq4Oyf"
      },
      "execution_count": 183,
      "outputs": []
    },
    {
      "cell_type": "code",
      "source": [
        "numbers.append(40) #adding an element\n",
        "numbers"
      ],
      "metadata": {
        "colab": {
          "base_uri": "https://localhost:8080/"
        },
        "id": "dt47_BXt0x7h",
        "outputId": "f6ea3238-eb5c-4b24-ad65-373ca5f19b79"
      },
      "execution_count": 184,
      "outputs": [
        {
          "output_type": "execute_result",
          "data": {
            "text/plain": [
              "[6, 15, 16, 43, 25, 146, 33, 28, 66, 79, 40]"
            ]
          },
          "metadata": {},
          "execution_count": 184
        }
      ]
    },
    {
      "cell_type": "code",
      "source": [
        "numbers.remove(146) #removing an element\n",
        "numbers"
      ],
      "metadata": {
        "colab": {
          "base_uri": "https://localhost:8080/"
        },
        "id": "hpcRUqG303Oi",
        "outputId": "ba077310-bb6b-4c37-f86a-9cd633a55e20"
      },
      "execution_count": 185,
      "outputs": [
        {
          "output_type": "execute_result",
          "data": {
            "text/plain": [
              "[6, 15, 16, 43, 25, 33, 28, 66, 79, 40]"
            ]
          },
          "metadata": {},
          "execution_count": 185
        }
      ]
    },
    {
      "cell_type": "code",
      "source": [
        "numbers.pop()"
      ],
      "metadata": {
        "colab": {
          "base_uri": "https://localhost:8080/"
        },
        "id": "VaNG2jbq09hp",
        "outputId": "d0c1e664-1093-4da3-b90e-53a31c6ba473"
      },
      "execution_count": 96,
      "outputs": [
        {
          "output_type": "execute_result",
          "data": {
            "text/plain": [
              "40"
            ]
          },
          "metadata": {},
          "execution_count": 96
        }
      ]
    },
    {
      "cell_type": "code",
      "source": [
        "numbers"
      ],
      "metadata": {
        "colab": {
          "base_uri": "https://localhost:8080/"
        },
        "id": "9ph_inT71NKK",
        "outputId": "9215b969-4e6d-4868-890a-e4ac835bc0df"
      },
      "execution_count": 97,
      "outputs": [
        {
          "output_type": "execute_result",
          "data": {
            "text/plain": [
              "[6, 15, 16, 43, 25, 33, 28, 66, 79]"
            ]
          },
          "metadata": {},
          "execution_count": 97
        }
      ]
    },
    {
      "cell_type": "markdown",
      "source": [
        "Note: for string when you use a print statement in series it returns values every moment\n",
        "when you use print statements for series in list it does not return values for every print statement"
      ],
      "metadata": {
        "id": "4YohhiWy1d5y"
      }
    },
    {
      "cell_type": "code",
      "source": [
        "numbers=[6,15,16,43,25,146,33,28,66,79] \n",
        "numbers.append(40)\n",
        "numbers.remove(146)\n",
        "numbers.pop()\n",
        "numbers"
      ],
      "metadata": {
        "colab": {
          "base_uri": "https://localhost:8080/"
        },
        "id": "bxDHH_Jq15GY",
        "outputId": "1c9c649a-607c-4c66-f9f3-dc5845726567"
      },
      "execution_count": 99,
      "outputs": [
        {
          "output_type": "execute_result",
          "data": {
            "text/plain": [
              "[6, 15, 16, 43, 25, 33, 28, 66, 79]"
            ]
          },
          "metadata": {},
          "execution_count": 99
        }
      ]
    },
    {
      "cell_type": "code",
      "source": [
        "a=[2,2,2,8,8,9,6,1,223,5,4,1,1,2,5,1,2] #counting the number of times an element occurred\n",
        "a.count(2)"
      ],
      "metadata": {
        "colab": {
          "base_uri": "https://localhost:8080/"
        },
        "id": "QyMz0hEJ2fuc",
        "outputId": "6137469f-2de9-4c52-90e9-f8c9a584538f"
      },
      "execution_count": 102,
      "outputs": [
        {
          "output_type": "execute_result",
          "data": {
            "text/plain": [
              "5"
            ]
          },
          "metadata": {},
          "execution_count": 102
        }
      ]
    },
    {
      "cell_type": "markdown",
      "source": [
        "2. **Dictionaries**"
      ],
      "metadata": {
        "id": "CjMAo10d5Ce4"
      }
    },
    {
      "cell_type": "code",
      "source": [
        "Section={\"Sreenija\":16,\"Manasa\":43,\"Jeba\":25,\"Meghana\":79,\"Devipriya\":60}\n",
        "print(type(Section)) #Dictionary\n",
        "Section={'Sreenija':16,'Manasa':43,'Jeba':25,'Meghana':79,'Devipriya':60}\n",
        "type(Section)"
      ],
      "metadata": {
        "colab": {
          "base_uri": "https://localhost:8080/"
        },
        "id": "Jkwt0bkK5HvI",
        "outputId": "2df7a3d3-7bda-423a-d447-e0ea3e8eddcc"
      },
      "execution_count": 129,
      "outputs": [
        {
          "output_type": "stream",
          "name": "stdout",
          "text": [
            "<class 'dict'>\n"
          ]
        },
        {
          "output_type": "execute_result",
          "data": {
            "text/plain": [
              "dict"
            ]
          },
          "metadata": {},
          "execution_count": 129
        }
      ]
    },
    {
      "cell_type": "code",
      "source": [
        "Section"
      ],
      "metadata": {
        "colab": {
          "base_uri": "https://localhost:8080/"
        },
        "id": "QmL6Km0j6DZP",
        "outputId": "9228616b-4825-4112-fa78-899ff83d0dc1"
      },
      "execution_count": 130,
      "outputs": [
        {
          "output_type": "execute_result",
          "data": {
            "text/plain": [
              "{'Sreenija': 16, 'Manasa': 43, 'Jeba': 25, 'Meghana': 79, 'Devipriya': 60}"
            ]
          },
          "metadata": {},
          "execution_count": 130
        }
      ]
    },
    {
      "cell_type": "code",
      "source": [
        "print(Section.items()) #Items of dictionary\n",
        "print(Section.keys()) #Keys of Dictionary\n",
        "print(Section.values()) #Values of Dictionary"
      ],
      "metadata": {
        "colab": {
          "base_uri": "https://localhost:8080/"
        },
        "id": "hZJzHbe76PF1",
        "outputId": "1988cc80-6eda-48cb-9f18-b4ac2159bd79"
      },
      "execution_count": 134,
      "outputs": [
        {
          "output_type": "stream",
          "name": "stdout",
          "text": [
            "dict_items([('Sreenija', 16), ('Manasa', 43), ('Jeba', 25), ('Meghana', 79), ('Devipriya', 60)])\n",
            "dict_keys(['Sreenija', 'Manasa', 'Jeba', 'Meghana', 'Devipriya'])\n",
            "dict_values([16, 43, 25, 79, 60])\n"
          ]
        }
      ]
    },
    {
      "cell_type": "code",
      "source": [
        "print(Section['Sreenija']) #Calling a key\n",
        "print(Section['Jeba'])"
      ],
      "metadata": {
        "colab": {
          "base_uri": "https://localhost:8080/"
        },
        "id": "wgHZ7_nA66dQ",
        "outputId": "92489c0a-2259-4e00-e53c-d1ba212cb628"
      },
      "execution_count": 138,
      "outputs": [
        {
          "output_type": "stream",
          "name": "stdout",
          "text": [
            "16\n",
            "25\n"
          ]
        }
      ]
    },
    {
      "cell_type": "code",
      "source": [
        "Section['Sai Ananya']=50 #Adding an item\n",
        "Section"
      ],
      "metadata": {
        "colab": {
          "base_uri": "https://localhost:8080/"
        },
        "id": "cWEdERsB7B2J",
        "outputId": "7b9cebcc-4599-42c4-bc7f-ff63bdd0d0e0"
      },
      "execution_count": 139,
      "outputs": [
        {
          "output_type": "execute_result",
          "data": {
            "text/plain": [
              "{'Sreenija': 16,\n",
              " 'Manasa': 43,\n",
              " 'Jeba': 25,\n",
              " 'Meghana': 79,\n",
              " 'Devipriya': 60,\n",
              " 'Sai Ananya': 50}"
            ]
          },
          "metadata": {},
          "execution_count": 139
        }
      ]
    },
    {
      "cell_type": "markdown",
      "source": [
        "3. **Tuples**"
      ],
      "metadata": {
        "id": "fbCmB7ZI7oEc"
      }
    },
    {
      "cell_type": "code",
      "source": [
        "tup = ('cat','dog','ant','elephant','fly','bee',1,2,3)\n",
        "type(tup)"
      ],
      "metadata": {
        "colab": {
          "base_uri": "https://localhost:8080/"
        },
        "id": "2OkMUslt7qxv",
        "outputId": "905a5e95-458b-4ce9-cfde-17c3e397545d"
      },
      "execution_count": 145,
      "outputs": [
        {
          "output_type": "execute_result",
          "data": {
            "text/plain": [
              "tuple"
            ]
          },
          "metadata": {},
          "execution_count": 145
        }
      ]
    },
    {
      "cell_type": "code",
      "source": [
        "tup[3] #Index"
      ],
      "metadata": {
        "colab": {
          "base_uri": "https://localhost:8080/",
          "height": 35
        },
        "id": "2znw6fEe798K",
        "outputId": "18b6ab3b-4faf-4f17-8a3e-2b73f5b1a648"
      },
      "execution_count": 143,
      "outputs": [
        {
          "output_type": "execute_result",
          "data": {
            "text/plain": [
              "'p'"
            ],
            "application/vnd.google.colaboratory.intrinsic+json": {
              "type": "string"
            }
          },
          "metadata": {},
          "execution_count": 143
        }
      ]
    },
    {
      "cell_type": "markdown",
      "source": [
        "4. **Sets**"
      ],
      "metadata": {
        "id": "jdXSd8uv8fZe"
      }
    },
    {
      "cell_type": "code",
      "source": [
        "set = {1,2,3,4,5,6,7,8,'cat','dog','ant'}\n",
        "type(set)"
      ],
      "metadata": {
        "colab": {
          "base_uri": "https://localhost:8080/"
        },
        "id": "q3ZTWOi28jqH",
        "outputId": "99d812a4-5be4-4595-e682-5c0d4413e438"
      },
      "execution_count": 148,
      "outputs": [
        {
          "output_type": "execute_result",
          "data": {
            "text/plain": [
              "set"
            ]
          },
          "metadata": {},
          "execution_count": 148
        }
      ]
    },
    {
      "cell_type": "code",
      "source": [
        "set={1,1,2,3,5,3,2,2,4,5,7,8,8,5,'cat','dog','ant','cat','dog','ant'}\n",
        "set"
      ],
      "metadata": {
        "colab": {
          "base_uri": "https://localhost:8080/"
        },
        "id": "wA4nzMyS8z1q",
        "outputId": "3b8e0d2a-f9e9-46f0-9c57-cac3da46d59c"
      },
      "execution_count": 153,
      "outputs": [
        {
          "output_type": "execute_result",
          "data": {
            "text/plain": [
              "{1, 2, 3, 4, 5, 7, 8, 'ant', 'cat', 'dog'}"
            ]
          },
          "metadata": {},
          "execution_count": 153
        }
      ]
    },
    {
      "cell_type": "code",
      "source": [
        "set=[1,1,2,3,5,3,2,2,4,5,7,8,8,5] #list vs set\n",
        "a=print(\"List:{}\".format(set))\n",
        "print(type(a))\n",
        "set={1,1,2,3,5,3,2,2,4,5,7,8,8,5}\n",
        "c=print(\"Set:{}\".format(set))\n",
        "print(type(c))"
      ],
      "metadata": {
        "colab": {
          "base_uri": "https://localhost:8080/"
        },
        "id": "LhDdStiQ-ZRV",
        "outputId": "d0738efa-8a40-4bfc-82da-b4e6992909a6"
      },
      "execution_count": 165,
      "outputs": [
        {
          "output_type": "stream",
          "name": "stdout",
          "text": [
            "List:[1, 1, 2, 3, 5, 3, 2, 2, 4, 5, 7, 8, 8, 5]\n",
            "<class 'NoneType'>\n",
            "Set:{1, 2, 3, 4, 5, 7, 8}\n",
            "<class 'NoneType'>\n"
          ]
        }
      ]
    },
    {
      "cell_type": "markdown",
      "source": [
        "**Comparison and logical operators**"
      ],
      "metadata": {
        "id": "lQtinI9H_Q2f"
      }
    },
    {
      "cell_type": "code",
      "source": [
        "111>9999"
      ],
      "metadata": {
        "colab": {
          "base_uri": "https://localhost:8080/"
        },
        "id": "rCh6AO6r_P1E",
        "outputId": "92486789-ad35-4720-fc40-1e3cdf1ce4bf"
      },
      "execution_count": 161,
      "outputs": [
        {
          "output_type": "execute_result",
          "data": {
            "text/plain": [
              "False"
            ]
          },
          "metadata": {},
          "execution_count": 161
        }
      ]
    },
    {
      "cell_type": "code",
      "source": [
        "1111<9999"
      ],
      "metadata": {
        "colab": {
          "base_uri": "https://localhost:8080/"
        },
        "id": "Ehh69nFi_fDQ",
        "outputId": "a356834b-abb2-4c30-b06e-5946092ec3f1"
      },
      "execution_count": 162,
      "outputs": [
        {
          "output_type": "execute_result",
          "data": {
            "text/plain": [
              "True"
            ]
          },
          "metadata": {},
          "execution_count": 162
        }
      ]
    },
    {
      "cell_type": "code",
      "source": [
        "111==999"
      ],
      "metadata": {
        "colab": {
          "base_uri": "https://localhost:8080/"
        },
        "id": "DO9mNmDF_im7",
        "outputId": "f4b7830b-1d58-4ebd-911d-5981ecefe018"
      },
      "execution_count": 170,
      "outputs": [
        {
          "output_type": "execute_result",
          "data": {
            "text/plain": [
              "False"
            ]
          },
          "metadata": {},
          "execution_count": 170
        }
      ]
    },
    {
      "cell_type": "code",
      "source": [
        "111<=999"
      ],
      "metadata": {
        "colab": {
          "base_uri": "https://localhost:8080/"
        },
        "id": "rMgUjzS5_-f_",
        "outputId": "b2484fb7-5a79-4ae9-90a3-8983ef28e573"
      },
      "execution_count": 171,
      "outputs": [
        {
          "output_type": "execute_result",
          "data": {
            "text/plain": [
              "True"
            ]
          },
          "metadata": {},
          "execution_count": 171
        }
      ]
    },
    {
      "cell_type": "code",
      "source": [
        "111>=999"
      ],
      "metadata": {
        "colab": {
          "base_uri": "https://localhost:8080/"
        },
        "id": "mqKOKIy0AB-p",
        "outputId": "9959c226-1b16-483c-d047-7c64298f5c64"
      },
      "execution_count": 172,
      "outputs": [
        {
          "output_type": "execute_result",
          "data": {
            "text/plain": [
              "False"
            ]
          },
          "metadata": {},
          "execution_count": 172
        }
      ]
    },
    {
      "cell_type": "code",
      "source": [
        "'malayalam'=='malayalam'"
      ],
      "metadata": {
        "colab": {
          "base_uri": "https://localhost:8080/"
        },
        "id": "90C-pn3rAIg_",
        "outputId": "2a467585-36dc-4c17-fd8a-8b52c421e89c"
      },
      "execution_count": 167,
      "outputs": [
        {
          "output_type": "execute_result",
          "data": {
            "text/plain": [
              "True"
            ]
          },
          "metadata": {},
          "execution_count": 167
        }
      ]
    },
    {
      "cell_type": "code",
      "source": [
        "'malayalam'=='Malayalam'"
      ],
      "metadata": {
        "colab": {
          "base_uri": "https://localhost:8080/"
        },
        "id": "ltERjnlnASJ7",
        "outputId": "a8d7ad1e-343d-43f6-b8e4-40e22eee9862"
      },
      "execution_count": 168,
      "outputs": [
        {
          "output_type": "execute_result",
          "data": {
            "text/plain": [
              "False"
            ]
          },
          "metadata": {},
          "execution_count": 168
        }
      ]
    },
    {
      "cell_type": "code",
      "source": [
        "111==111 and 111!=111"
      ],
      "metadata": {
        "colab": {
          "base_uri": "https://localhost:8080/"
        },
        "id": "GDe6ZlPvA2xN",
        "outputId": "e7b1892c-b511-432b-dae1-0063973e378b"
      },
      "execution_count": 173,
      "outputs": [
        {
          "output_type": "execute_result",
          "data": {
            "text/plain": [
              "False"
            ]
          },
          "metadata": {},
          "execution_count": 173
        }
      ]
    },
    {
      "cell_type": "code",
      "source": [
        "1<2 or 111==111"
      ],
      "metadata": {
        "colab": {
          "base_uri": "https://localhost:8080/"
        },
        "id": "yCXdpawZBBSN",
        "outputId": "6989fbda-69fb-47e2-ea80-ddea156eaaf4"
      },
      "execution_count": 174,
      "outputs": [
        {
          "output_type": "execute_result",
          "data": {
            "text/plain": [
              "True"
            ]
          },
          "metadata": {},
          "execution_count": 174
        }
      ]
    },
    {
      "cell_type": "code",
      "source": [
        "1>2 or 111!=111"
      ],
      "metadata": {
        "colab": {
          "base_uri": "https://localhost:8080/"
        },
        "id": "huykjufMBFZz",
        "outputId": "3a71304d-29b9-4817-d19e-bcda9858f88b"
      },
      "execution_count": 175,
      "outputs": [
        {
          "output_type": "execute_result",
          "data": {
            "text/plain": [
              "False"
            ]
          },
          "metadata": {},
          "execution_count": 175
        }
      ]
    },
    {
      "cell_type": "code",
      "source": [
        "not 111 == 222"
      ],
      "metadata": {
        "colab": {
          "base_uri": "https://localhost:8080/"
        },
        "id": "SzHp004ABTXp",
        "outputId": "3a4cdfde-85cd-4d6e-d435-4f473217fb1a"
      },
      "execution_count": 177,
      "outputs": [
        {
          "output_type": "execute_result",
          "data": {
            "text/plain": [
              "True"
            ]
          },
          "metadata": {},
          "execution_count": 177
        }
      ]
    },
    {
      "cell_type": "code",
      "source": [
        "not 1==1"
      ],
      "metadata": {
        "colab": {
          "base_uri": "https://localhost:8080/"
        },
        "id": "SJEhey7FBZl4",
        "outputId": "c81f5f54-3bd2-43dd-b07f-141fa5d25c8b"
      },
      "execution_count": 178,
      "outputs": [
        {
          "output_type": "execute_result",
          "data": {
            "text/plain": [
              "False"
            ]
          },
          "metadata": {},
          "execution_count": 178
        }
      ]
    }
  ]
}